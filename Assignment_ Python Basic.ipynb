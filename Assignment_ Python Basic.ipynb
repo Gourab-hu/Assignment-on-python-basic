{
 "cells": [
  {
   "cell_type": "code",
   "execution_count": 121,
   "id": "df59cc7a-7aef-478b-a8c1-aad554a6eea3",
   "metadata": {},
   "outputs": [
    {
     "name": "stdout",
     "output_type": "stream",
     "text": [
      "hello world\n"
     ]
    }
   ],
   "source": [
    "                                                   #PRACTICAL QUESTIONS\n",
    "\n",
    "#1.Write a python program to print hello world.\n",
    "print(\"hello world\")"
   ]
  },
  {
   "cell_type": "code",
   "execution_count": 26,
   "id": "e878f0df-c371-4096-b1fa-6fe39af2787e",
   "metadata": {},
   "outputs": [
    {
     "name": "stdin",
     "output_type": "stream",
     "text": [
      "Enter your name Gourab\n",
      "Enter your age 19\n"
     ]
    }
   ],
   "source": [
    "#2.Write a python code to display your name and age\n",
    "name = input(\"Enter your name\")\n",
    "age = int(input(\"Enter your age\"))"
   ]
  },
  {
   "cell_type": "code",
   "execution_count": 24,
   "id": "28639f52-00aa-44de-91f7-f50d2e197e1a",
   "metadata": {},
   "outputs": [
    {
     "name": "stdout",
     "output_type": "stream",
     "text": [
      "False\n",
      "None\n",
      "True\n",
      "and\n",
      "as\n",
      "assert\n",
      "async\n",
      "await\n",
      "break\n",
      "class\n",
      "continue\n",
      "def\n",
      "del\n",
      "elif\n",
      "else\n",
      "except\n",
      "finally\n",
      "for\n",
      "from\n",
      "global\n",
      "if\n",
      "import\n",
      "in\n",
      "is\n",
      "lambda\n",
      "nonlocal\n",
      "not\n",
      "or\n",
      "pass\n",
      "raise\n",
      "return\n",
      "try\n",
      "while\n",
      "with\n",
      "yield\n"
     ]
    }
   ],
   "source": [
    "#3. Write code to print all the pre-defined keywords in Python using the keyword library\n",
    "import keyword\n",
    "print(*keyword.kwlist, sep='\\n')\n"
   ]
  },
  {
   "cell_type": "code",
   "execution_count": 9,
   "id": "6f515f4e-a21f-489e-bb4d-b07f0588fe4a",
   "metadata": {},
   "outputs": [
    {
     "name": "stdin",
     "output_type": "stream",
     "text": [
      "Enter a word to check if it's a Python keyword:  ifelse\n"
     ]
    },
    {
     "name": "stdout",
     "output_type": "stream",
     "text": [
      "'ifelse' is NOT a Python keyword.\n"
     ]
    }
   ],
   "source": [
    "#4. Write a program that checks if a given word is a Python keyword.\n",
    "import keyword\n",
    "\n",
    "word = input(\"Enter a word to check if it's a Python keyword: \")\n",
    "\n",
    "if keyword.iskeyword(word):\n",
    "    print(f\"'{word}' is a Python keyword.\")\n",
    "else:\n",
    "    print(f\"'{word}' is NOT a Python keyword.\")\n"
   ]
  },
  {
   "cell_type": "code",
   "execution_count": 17,
   "id": "3da693d8-ad21-4b1f-baf6-5fb6e71c54b7",
   "metadata": {},
   "outputs": [
    {
     "name": "stdout",
     "output_type": "stream",
     "text": [
      "original list: [10, 20, 30]\n",
      "modified list: [10, 200, 30]\n"
     ]
    }
   ],
   "source": [
    "#5. Create a list and tuple in Python, and demonstrate how attempting to change an element works differently for each\n",
    "my_list=[10, 20, 30]\n",
    "print(\"original list:\", my_list)\n",
    "my_list[1]= 200\n",
    "print(\"modified list:\", my_list)"
   ]
  },
  {
   "cell_type": "code",
   "execution_count": 25,
   "id": "80e55fc3-5fe8-44b6-bc37-e128f963401b",
   "metadata": {},
   "outputs": [
    {
     "name": "stdout",
     "output_type": "stream",
     "text": [
      "Original tuple: (10, 20, 30)\n"
     ]
    },
    {
     "ename": "TypeError",
     "evalue": "'tuple' object does not support item assignment",
     "output_type": "error",
     "traceback": [
      "\u001b[1;31m---------------------------------------------------------------------------\u001b[0m",
      "\u001b[1;31mTypeError\u001b[0m                                 Traceback (most recent call last)",
      "Cell \u001b[1;32mIn[25], line 3\u001b[0m\n\u001b[0;32m      1\u001b[0m my_tuple \u001b[38;5;241m=\u001b[39m (\u001b[38;5;241m10\u001b[39m, \u001b[38;5;241m20\u001b[39m, \u001b[38;5;241m30\u001b[39m)\n\u001b[0;32m      2\u001b[0m \u001b[38;5;28mprint\u001b[39m(\u001b[38;5;124m\"\u001b[39m\u001b[38;5;124mOriginal tuple:\u001b[39m\u001b[38;5;124m\"\u001b[39m, my_tuple)\n\u001b[1;32m----> 3\u001b[0m my_tuple[\u001b[38;5;241m1\u001b[39m] \u001b[38;5;241m=\u001b[39m \u001b[38;5;241m200\u001b[39m\n",
      "\u001b[1;31mTypeError\u001b[0m: 'tuple' object does not support item assignment"
     ]
    }
   ],
   "source": [
    "my_tuple = (10, 20, 30)\n",
    "print(\"Original tuple:\", my_tuple)\n",
    "my_tuple[1] = 200"
   ]
  },
  {
   "cell_type": "code",
   "execution_count": 36,
   "id": "045cfc1c-f163-4552-8f3c-310abeef36c6",
   "metadata": {},
   "outputs": [
    {
     "name": "stdin",
     "output_type": "stream",
     "text": [
      "Enter your first number 2\n",
      "Enter your second number 2\n"
     ]
    },
    {
     "name": "stdout",
     "output_type": "stream",
     "text": [
      "num1 + num2: 4.0\n"
     ]
    }
   ],
   "source": [
    "#7.Write a program that performs basic arithmetic operations on two user-input numbers.\n",
    "num1 = float(input(\"Enter your first number\"))\n",
    "num2 = float(input(\"Enter your second number\"))\n",
    "print(\"num1 + num2:\", num1+num2)"
   ]
  },
  {
   "cell_type": "code",
   "execution_count": 44,
   "id": "851a957f-0ea7-4d59-914c-a09742410002",
   "metadata": {},
   "outputs": [
    {
     "name": "stdout",
     "output_type": "stream",
     "text": [
      "x > 0 and y > 0 = True\n",
      "x > 0 or y < 0 = True\n",
      "not(x > 0) = False\n"
     ]
    }
   ],
   "source": [
    " #8. Write a program to demonstrate the use of logical operators\n",
    "x = 5\n",
    "y = 10\n",
    "\n",
    "# AND operator\n",
    "print(\"x > 0 and y > 0 =\", x > 0 and y >0)  \n",
    "\n",
    "# OR operator\n",
    "print(\"x > 0 or y < 0 =\", x > 0 or y < 0)    \n",
    "\n",
    "# NOT operator\n",
    "print(\"not(x > 0) =\", not(x > 0))            \n"
   ]
  },
  {
   "cell_type": "code",
   "execution_count": 51,
   "id": "d39aafa9-0292-4a33-84af-2c2d7622fa1f",
   "metadata": {},
   "outputs": [
    {
     "name": "stdin",
     "output_type": "stream",
     "text": [
      "Enter your first number 20\n"
     ]
    }
   ],
   "source": [
    "#9.Write a Python program to convert user input from string to integer, float, and boolean types.\n",
    "a = input(\"Enter your first number\")"
   ]
  },
  {
   "cell_type": "code",
   "execution_count": 53,
   "id": "fb7c82fa-83a8-4c63-b314-ff2b1d326d49",
   "metadata": {},
   "outputs": [
    {
     "data": {
      "text/plain": [
       "str"
      ]
     },
     "execution_count": 53,
     "metadata": {},
     "output_type": "execute_result"
    }
   ],
   "source": [
    "type(a)"
   ]
  },
  {
   "cell_type": "code",
   "execution_count": 55,
   "id": "4fefa5b3-2aed-4ee0-85f6-2c754bcda557",
   "metadata": {},
   "outputs": [],
   "source": [
    "a = int(a)"
   ]
  },
  {
   "cell_type": "code",
   "execution_count": 57,
   "id": "4ac50194-aa11-4072-98b4-7607bec4ed10",
   "metadata": {},
   "outputs": [
    {
     "data": {
      "text/plain": [
       "int"
      ]
     },
     "execution_count": 57,
     "metadata": {},
     "output_type": "execute_result"
    }
   ],
   "source": [
    "type(a)"
   ]
  },
  {
   "cell_type": "code",
   "execution_count": 59,
   "id": "8b759a46-fb6d-40e0-9db3-d7c1d7da8b5d",
   "metadata": {},
   "outputs": [],
   "source": [
    "a = bool(a)"
   ]
  },
  {
   "cell_type": "code",
   "execution_count": 61,
   "id": "67fd42d5-5919-4c8a-bd9d-bdbb53671cdb",
   "metadata": {},
   "outputs": [
    {
     "data": {
      "text/plain": [
       "bool"
      ]
     },
     "execution_count": 61,
     "metadata": {},
     "output_type": "execute_result"
    }
   ],
   "source": [
    "type(a)"
   ]
  },
  {
   "cell_type": "code",
   "execution_count": 63,
   "id": "50cacb2c-e2de-4894-85b6-646ec882af32",
   "metadata": {},
   "outputs": [
    {
     "name": "stdout",
     "output_type": "stream",
     "text": [
      "[1, 2, 3, 4, 5]\n"
     ]
    }
   ],
   "source": [
    "# 10. Write code to demonstrate type casting with list elements.\n",
    "numbers =[\"1\", \"2\", \"3\", \"4\", \"5\"]\n",
    "numbers = [ int(x) for x in numbers]\n",
    "print(numbers)"
   ]
  },
  {
   "cell_type": "code",
   "execution_count": 92,
   "id": "bc6981b9-3996-41b4-994f-0fcd7cc00e77",
   "metadata": {},
   "outputs": [
    {
     "name": "stdin",
     "output_type": "stream",
     "text": [
      "Enter your number: -3\n"
     ]
    },
    {
     "name": "stdout",
     "output_type": "stream",
     "text": [
      "The number is negative\n"
     ]
    }
   ],
   "source": [
    "# 11. Write a program that checks if a number is positive, negative, or zero.\n",
    "a = int(input(\"Enter your number:\"))\n",
    "if a>0:\n",
    "    print(\"The number is positive\")\n",
    "elif a<0:\n",
    "    print(\"The number is negative\")\n",
    "else:\n",
    "    print(\"The number is zero\")"
   ]
  },
  {
   "cell_type": "code",
   "execution_count": 117,
   "id": "ffba71af-febb-40f7-8391-8fa766a55531",
   "metadata": {},
   "outputs": [
    {
     "name": "stdout",
     "output_type": "stream",
     "text": [
      "1\n",
      "2\n",
      "3\n",
      "4\n",
      "5\n",
      "6\n",
      "7\n",
      "8\n",
      "9\n"
     ]
    }
   ],
   "source": [
    "#12.Write a for loop to print numbers from 1 to 10.\n",
    "l = [1, 2, 3, 4, 5, 6, 7, 8, 9]\n",
    "for i in l:\n",
    "    print(i)"
   ]
  },
  {
   "cell_type": "code",
   "execution_count": 119,
   "id": "1a123770-21dc-42e4-af32-5ea5b9f8f010",
   "metadata": {},
   "outputs": [
    {
     "name": "stdout",
     "output_type": "stream",
     "text": [
      "The sum of even numbers from 1 to 50 is: 650\n"
     ]
    }
   ],
   "source": [
    "#13. Write a Python program to find the sum of all even numbers between 1 and 50.\n",
    "sum_even = 0\n",
    "for num in range(1, 51):\n",
    "    if num % 2 == 0:\n",
    "        sum_even += num\n",
    "print(\"The sum of even numbers from 1 to 50 is:\", sum_even)\n",
    "\n"
   ]
  },
  {
   "cell_type": "code",
   "execution_count": 123,
   "id": "7a01f51f-003d-46f0-a11a-2c5bfc01ac4a",
   "metadata": {},
   "outputs": [],
   "source": [
    "#15. Write a Python program to calculate the factorial of a number provided by the user using a while loop.\n"
   ]
  },
  {
   "cell_type": "code",
   "execution_count": 11,
   "id": "092151ff-224a-4cdc-afaa-65f2650b9b32",
   "metadata": {},
   "outputs": [
    {
     "data": {
      "text/plain": [
       "'\\n Python is a programming language that is known for its versatility and simplicity.\\nIt is used for effective data handling and is easy to learn. It has a rich ecosystem of libraries such as panda, numpy, etc.\\nIt has a large community and scalability.\\n'"
      ]
     },
     "execution_count": 11,
     "metadata": {},
     "output_type": "execute_result"
    }
   ],
   "source": [
    "                                        #THEORETICAL QUESTIONS\n",
    "#1. What is Python, and why is it popular?\n",
    "'''\n",
    " Python is a programming language that is known for its versatility and simplicity.\n",
    "It is used for effective data handling and is easy to learn. It has a rich ecosystem of libraries such as panda, numpy, etc.\n",
    "It has a large community and scalability.\n",
    "'''\n"
   ]
  },
  {
   "cell_type": "code",
   "execution_count": 9,
   "id": "97c51553-f58d-4ac5-a3d3-5448174ceac3",
   "metadata": {},
   "outputs": [
    {
     "data": {
      "text/plain": [
       "'\\n Interpreter in python is defined as the code which is read and processed line by line. The interpreter acts like a real time translator that helps in \\nconverting python commands into instructions.\\n '"
      ]
     },
     "execution_count": 9,
     "metadata": {},
     "output_type": "execute_result"
    }
   ],
   "source": [
    "#2. What is an interpreter in Python?\n",
    "'''\n",
    " Interpreter in python is defined as the code which is read and processed line by line. The interpreter acts like a real time translator that helps in \n",
    "converting python commands into instructions.\n",
    " '''"
   ]
  },
  {
   "cell_type": "code",
   "execution_count": 7,
   "id": "af60cd20-0bda-4996-af0c-c1dd6731ca75",
   "metadata": {},
   "outputs": [
    {
     "data": {
      "text/plain": [
       "'\\n Predefined keywords are reserved words that have specific meaning and cannotbe used as identifiers. They are essential for defining the srtucture and \\nsyntax of python code.\\n'"
      ]
     },
     "execution_count": 7,
     "metadata": {},
     "output_type": "execute_result"
    }
   ],
   "source": [
    "#3. What are pre-defined keywords in Python?\n",
    "'''\n",
    " Predefined keywords are reserved words that have specific meaning and cannotbe used as identifiers. They are essential for defining the srtucture and \n",
    "syntax of python code.\n",
    "'''"
   ]
  },
  {
   "cell_type": "code",
   "execution_count": 5,
   "id": "6222f86c-c306-4b7b-87d6-1e56cdece7c7",
   "metadata": {},
   "outputs": [
    {
     "data": {
      "text/plain": [
       "'\\n No, keywords cannot be used as variable names.\\n'"
      ]
     },
     "execution_count": 5,
     "metadata": {},
     "output_type": "execute_result"
    }
   ],
   "source": [
    "#4.Can keywords be used as variable names?\n",
    "'''\n",
    " No, keywords cannot be used as variable names.\n",
    "'''\n"
   ]
  },
  {
   "cell_type": "code",
   "execution_count": 15,
   "id": "0e658d71-dd70-4f94-b616-e3edfe43dd0d",
   "metadata": {},
   "outputs": [
    {
     "data": {
      "text/plain": [
       "\"\\n Mutability in python refers to the ability of an object to be modified after it's created.\\n\""
      ]
     },
     "execution_count": 15,
     "metadata": {},
     "output_type": "execute_result"
    }
   ],
   "source": [
    "#5. What is mutability in Python?\n",
    "'''\n",
    " Mutability in python refers to the ability of an object to be modified after it's created.\n",
    "'''"
   ]
  },
  {
   "cell_type": "code",
   "execution_count": 17,
   "id": "e53ce324-70f0-4b10-a4b1-6a887396b657",
   "metadata": {},
   "outputs": [
    {
     "data": {
      "text/plain": [
       "'\\n Lists are mutable because it holds a sequence of objects in a block that can be changed over time.\\n  But tuples are designed to be fixed collection of items. Once tuple is created python locks its contents- you cant change items or things.\\n  '"
      ]
     },
     "execution_count": 17,
     "metadata": {},
     "output_type": "execute_result"
    }
   ],
   "source": [
    "#6. Why are lists mutable, but tuples are immutable?\n",
    "'''\n",
    " Lists are mutable because it holds a sequence of objects in a block that can be changed over time.\n",
    "  But tuples are designed to be fixed collection of items. Once tuple is created python locks its contents- you cant change items or things.\n",
    "  '''"
   ]
  },
  {
   "cell_type": "code",
   "execution_count": 19,
   "id": "035d1921-7e9c-42f3-bc6b-d27dff1e223c",
   "metadata": {},
   "outputs": [
    {
     "data": {
      "text/plain": [
       "'\\n \"==\" sees that the value of an object is the same as the other object.\\n Wheareas \"is\" sees that two variables point at the exact same object memory.\\n '"
      ]
     },
     "execution_count": 19,
     "metadata": {},
     "output_type": "execute_result"
    }
   ],
   "source": [
    "#7.What is the difference between “==” and “is” operators in Python\n",
    "'''\n",
    " \"==\" sees that the value of an object is the same as the other object.\n",
    " Wheareas \"is\" sees that two variables point at the exact same object memory.\n",
    " '''"
   ]
  },
  {
   "cell_type": "code",
   "execution_count": 21,
   "id": "a0ebfc93-56e0-4949-bc68-435c22d3a55d",
   "metadata": {},
   "outputs": [
    {
     "data": {
      "text/plain": [
       "'\\n Logical operators are used to combine multiple conditions(True/False) and are used to control the flow of the decisions of the program.\\n There are mainly three types of logical types, they are:\\n AND, OR, NOT\\n '"
      ]
     },
     "execution_count": 21,
     "metadata": {},
     "output_type": "execute_result"
    }
   ],
   "source": [
    "#8.What are logical operators in Python?\n",
    "'''\n",
    " Logical operators are used to combine multiple conditions(True/False) and are used to control the flow of the decisions of the program.\n",
    " There are mainly three types of logical types, they are:\n",
    " AND, OR, NOT\n",
    " '''\n",
    " "
   ]
  },
  {
   "cell_type": "code",
   "execution_count": 26,
   "id": "69751523-68dd-4490-87af-a60cdbfbd741",
   "metadata": {},
   "outputs": [
    {
     "data": {
      "text/plain": [
       "'\\n Typecasting means changing one data type to another data type using python commands\\n '"
      ]
     },
     "execution_count": 26,
     "metadata": {},
     "output_type": "execute_result"
    }
   ],
   "source": [
    "#9.What is type casting in Python?\n",
    "'''\n",
    " Typecasting means changing one data type to another data type using python commands\n",
    " '''"
   ]
  },
  {
   "cell_type": "code",
   "execution_count": 30,
   "id": "b54b0a2f-0ed0-48e7-b90f-f720aff0e216",
   "metadata": {},
   "outputs": [
    {
     "data": {
      "text/plain": [
       "'\\n Implicit typecasting refers to the automatic conversion of pne data type to another when needed as python understands and executes automatically.\\nWhereas in explicit typecasting we have to change the type of data manually.\\n'"
      ]
     },
     "execution_count": 30,
     "metadata": {},
     "output_type": "execute_result"
    }
   ],
   "source": [
    "# 10.What is the difference between implicit and explicit type casting?\n",
    "'''\n",
    " Implicit typecasting refers to the automatic conversion of pne data type to another when needed as python understands and executes automatically.\n",
    "Whereas in explicit typecasting we have to change the type of data manually.\n",
    "'''"
   ]
  },
  {
   "cell_type": "code",
   "execution_count": 32,
   "id": "5a22c96e-3e71-4465-a5f9-d2665cb892aa",
   "metadata": {},
   "outputs": [
    {
     "data": {
      "text/plain": [
       "'\\n Conditional statements are used to control the flow of your program based on whether certain conditions are True or False.\\nThey allow your program to make decisions and execute different blocks of code depending on the situation.\\nWithout conditional statements, your program would just run line by line without any ability to react to data or inputs.\\n'"
      ]
     },
     "execution_count": 32,
     "metadata": {},
     "output_type": "execute_result"
    }
   ],
   "source": [
    "# 11. What is the purpose of conditional statements in Python?\n",
    "'''\n",
    " Conditional statements are used to control the flow of your program based on whether certain conditions are True or False.\n",
    "They allow your program to make decisions and execute different blocks of code depending on the situation.\n",
    "Without conditional statements, your program would just run line by line without any ability to react to data or inputs.\n",
    "'''"
   ]
  },
  {
   "cell_type": "code",
   "execution_count": 34,
   "id": "a635ead0-d2e8-457e-9603-d3983e1fd6b1",
   "metadata": {},
   "outputs": [
    {
     "data": {
      "text/plain": [
       "' The elif (short for else if) statement is used after an if and before an else to check additional conditions if the first if condition is False.\\nIt lets you test multiple conditions one after another, and the first one that is True will run its block — after that, Python skips the rest.\\n'"
      ]
     },
     "execution_count": 34,
     "metadata": {},
     "output_type": "execute_result"
    }
   ],
   "source": [
    "#12. How does the elif statement work?\n",
    "''' The elif (short for else if) statement is used after an if and before an else to check additional conditions if the first if condition is False.\n",
    "It lets you test multiple conditions one after another, and the first one that is True will run its block — after that, Python skips the rest.\n",
    "'''\n",
    "\n",
    " "
   ]
  },
  {
   "cell_type": "code",
   "execution_count": 36,
   "id": "d0616795-8eb9-4442-b61c-c1e86d1b5b75",
   "metadata": {},
   "outputs": [
    {
     "data": {
      "text/plain": [
       "' \\n For loop is used when we want to repeat something a specific number of times or iterate over a sequence.\\n we usually know in advance how many times we need to loop.\\n\\n While loop is used when we want to keep looping as long as the condition is true.\\n We dont usually know in advance how many times it will loop-it depends on when the condition ios false.\\n '"
      ]
     },
     "execution_count": 36,
     "metadata": {},
     "output_type": "execute_result"
    }
   ],
   "source": [
    "#13. What is the difference between for and while loops?\n",
    "''' \n",
    " For loop is used when we want to repeat something a specific number of times or iterate over a sequence.\n",
    " we usually know in advance how many times we need to loop.\n",
    "\n",
    " While loop is used when we want to keep looping as long as the condition is true.\n",
    " We dont usually know in advance how many times it will loop-it depends on when the condition ios false.\n",
    " '''\n",
    " "
   ]
  },
  {
   "cell_type": "code",
   "execution_count": 42,
   "id": "6d4d867a-388b-4642-9cc8-6297532a2327",
   "metadata": {},
   "outputs": [
    {
     "name": "stdin",
     "output_type": "stream",
     "text": [
      "Enter a positive number:  -6\n",
      "Enter a positive number:  -29\n",
      "Enter a positive number:  5\n"
     ]
    },
    {
     "name": "stdout",
     "output_type": "stream",
     "text": [
      "Thank you! You entered: 5\n"
     ]
    }
   ],
   "source": [
    "#14.Describe a scenario where a while loop is more suitable than a for loop.\n",
    "number = -1\n",
    "\n",
    "while number <= 0:\n",
    "    number = int(input(\"Enter a positive number: \"))\n",
    "\n",
    "print(\"Thank you! You entered:\", number)\n",
    "# for loop wiil be not suitable here because it expects a fixed or countable range"
   ]
  },
  {
   "cell_type": "code",
   "execution_count": null,
   "id": "2255aa41-7f43-41b6-8abc-66e4afe9f85c",
   "metadata": {},
   "outputs": [],
   "source": []
  }
 ],
 "metadata": {
  "kernelspec": {
   "display_name": "Python [conda env:base] *",
   "language": "python",
   "name": "conda-base-py"
  },
  "language_info": {
   "codemirror_mode": {
    "name": "ipython",
    "version": 3
   },
   "file_extension": ".py",
   "mimetype": "text/x-python",
   "name": "python",
   "nbconvert_exporter": "python",
   "pygments_lexer": "ipython3",
   "version": "3.12.7"
  }
 },
 "nbformat": 4,
 "nbformat_minor": 5
}
